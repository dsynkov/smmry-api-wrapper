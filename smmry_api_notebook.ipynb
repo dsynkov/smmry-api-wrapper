{
 "cells": [
  {
   "cell_type": "markdown",
   "metadata": {},
   "source": [
    "# SMMRY API Wrapper for Python"
   ]
  },
  {
   "cell_type": "markdown",
   "metadata": {},
   "source": [
    "## Getting Started"
   ]
  },
  {
   "cell_type": "markdown",
   "metadata": {},
   "source": [
    "To get started you'll need to sign up for the app and [register for a partner account](http://smmry.com/partner). In \"free mode\", you can submit up to 100 requests in 24 hours. Once you obtain your API key, export it as an environment variable in the your shell. (Aternatively, assign your key to a new variable once you're in python.)"
   ]
  },
  {
   "cell_type": "markdown",
   "metadata": {},
   "source": [
    "**In shell:**"
   ]
  },
  {
   "cell_type": "code",
   "execution_count": null,
   "metadata": {
    "collapsed": true
   },
   "outputs": [],
   "source": [
    "$ export SMMRY_API_KEY='YOUR KEY GOES HERE'"
   ]
  },
  {
   "cell_type": "markdown",
   "metadata": {},
   "source": [
    "**In Python:**"
   ]
  },
  {
   "cell_type": "code",
   "execution_count": null,
   "metadata": {
    "collapsed": true
   },
   "outputs": [],
   "source": [
    "import os\n",
    "\n",
    "SMMRY_API_KEY = os.environ.get('SMMRY_API_KEY')"
   ]
  },
  {
   "cell_type": "markdown",
   "metadata": {},
   "source": [
    "**Altnernatively...**"
   ]
  },
  {
   "cell_type": "code",
   "execution_count": null,
   "metadata": {
    "collapsed": true
   },
   "outputs": [],
   "source": [
    "SMMRY_API_KEY = 'YOUR KEY GOES HERE'"
   ]
  },
  {
   "cell_type": "markdown",
   "metadata": {},
   "source": [
    "Once your have your key, import the module and create an instance of the Smmry object."
   ]
  },
  {
   "cell_type": "code",
   "execution_count": null,
   "metadata": {
    "collapsed": true
   },
   "outputs": [],
   "source": [
    "from smmry_api_wrapper import Smmry\n",
    "\n",
    "smmry = Smmry(SMMRY_API_KEY)"
   ]
  },
  {
   "cell_type": "markdown",
   "metadata": {},
   "source": [
    "## Requesting Summaries"
   ]
  },
  {
   "cell_type": "markdown",
   "metadata": {},
   "source": [
    "To request the summary for an article pass an article's URL to the `.summarize()` method. A url is the only required parameter, and by default, the method will return a seven-sentence summary. Access the article summary with the `smmry` attribute using dot notation. I'll use this [*Huffington Post* article](https://www.huffingtonpost.com/entry/59ea1e4be4b0542ce4290d0d?section=us_politics) as an example."
   ]
  },
  {
   "cell_type": "code",
   "execution_count": null,
   "metadata": {
    "collapsed": true
   },
   "outputs": [],
   "source": [
    "url = 'https://www.huffingtonpost.com/entry/59ea1e4be4b0542ce4290d0d?section=us_politics'\n",
    "\n",
    "huffpost = smmry.summarize(url)\n",
    "\n",
    "huffpost.smmry"
   ]
  },
  {
   "cell_type": "markdown",
   "metadata": {},
   "source": [
    "**Alternatively, you can customize your requests by adding in optional parameters:**\n",
    "\n",
    "* **`length`**: Default 7. Must be an int.\n",
    "* **`with_break`**: Exclude/include page breaks. Default False.\n",
    "* **`quote`**: Exclude/include quotes. Default False.\n",
    "\n",
    "**You can view the [full documentation](http://smmry.com/api) on the SMMRY site.**"
   ]
  },
  {
   "cell_type": "code",
   "execution_count": null,
   "metadata": {
    "collapsed": true
   },
   "outputs": [],
   "source": [
    "huffpost = smmry.summarize(url,length=2,with_break=True,quote_avoid=True)\n",
    "\n",
    "huffpost.smmry"
   ]
  },
  {
   "cell_type": "markdown",
   "metadata": {
    "collapsed": true
   },
   "source": [
    "Once an article has been succsefull summarized, its summary (`.smmry`), title, character count, sentence length, and URL will be available as object attributes. Additionally, you can select the `.limitation` attribute to view how many requests you have left for that day."
   ]
  },
  {
   "cell_type": "code",
   "execution_count": null,
   "metadata": {
    "collapsed": true
   },
   "outputs": [],
   "source": [
    "huffpost.title # Accesses article's title"
   ]
  },
  {
   "cell_type": "code",
   "execution_count": null,
   "metadata": {
    "collapsed": true
   },
   "outputs": [],
   "source": [
    "huffpost.count # Count of characters"
   ]
  },
  {
   "cell_type": "code",
   "execution_count": null,
   "metadata": {
    "collapsed": true
   },
   "outputs": [],
   "source": [
    "huffpost.length # Sentence length"
   ]
  },
  {
   "cell_type": "code",
   "execution_count": null,
   "metadata": {
    "collapsed": true
   },
   "outputs": [],
   "source": [
    "huffpost.limitation # API limits"
   ]
  },
  {
   "cell_type": "markdown",
   "metadata": {},
   "source": [
    "**If you prefer, you can use the oject as a python dictionary.**"
   ]
  },
  {
   "cell_type": "code",
   "execution_count": null,
   "metadata": {
    "collapsed": true
   },
   "outputs": [],
   "source": [
    "my_dict = huffpost.smmry_dict\n",
    "\n",
    "my_dict.keys()"
   ]
  }
 ],
 "metadata": {
  "kernelspec": {
   "display_name": "Python 3",
   "language": "python",
   "name": "python3"
  },
  "language_info": {
   "codemirror_mode": {
    "name": "ipython",
    "version": 3
   },
   "file_extension": ".py",
   "mimetype": "text/x-python",
   "name": "python",
   "nbconvert_exporter": "python",
   "pygments_lexer": "ipython3",
   "version": "3.6.1"
  }
 },
 "nbformat": 4,
 "nbformat_minor": 2
}
